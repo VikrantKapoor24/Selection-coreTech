{
  "nbformat": 4,
  "nbformat_minor": 0,
  "metadata": {
    "colab": {
      "name": "Term_1.ipynb",
      "provenance": [],
      "collapsed_sections": [],
      "include_colab_link": true
    },
    "kernelspec": {
      "display_name": "Python 3",
      "name": "python3"
    },
    "language_info": {
      "name": "python"
    }
  },
  "cells": [
    {
      "cell_type": "markdown",
      "metadata": {
        "id": "view-in-github",
        "colab_type": "text"
      },
      "source": [
        "<a href=\"https://colab.research.google.com/github/VikrantKapoor24/Selection-coreTech/blob/main/Term_1.ipynb\" target=\"_parent\"><img src=\"https://colab.research.google.com/assets/colab-badge.svg\" alt=\"Open In Colab\"/></a>"
      ]
    },
    {
      "cell_type": "code",
      "metadata": {
        "colab": {
          "base_uri": "https://localhost:8080/"
        },
        "id": "lGr8QVo_AQrg",
        "outputId": "14ceb667-e95a-4495-8375-e00374c5e582"
      },
      "source": [
        "a=1\n",
        "print(a)"
      ],
      "execution_count": null,
      "outputs": [
        {
          "output_type": "stream",
          "text": [
            "1\n"
          ],
          "name": "stdout"
        }
      ]
    },
    {
      "cell_type": "code",
      "metadata": {
        "colab": {
          "base_uri": "https://localhost:8080/"
        },
        "id": "K1GMqFnjAajq",
        "outputId": "7b090356-5170-445d-b991-e3a9ecdfa54b"
      },
      "source": [
        "a,b=5,6\n",
        "print('Sum of ',a ,' and ', b ,' is ', a+b)\n",
        "print('Sum of %d and , %dis , %d '% (a,b,(a+b)))"
      ],
      "execution_count": null,
      "outputs": [
        {
          "output_type": "stream",
          "text": [
            "Sum of  5  and  6  is  11\n",
            "Sum of 5 and , 6is , 11 \n"
          ],
          "name": "stdout"
        }
      ]
    },
    {
      "cell_type": "code",
      "metadata": {
        "colab": {
          "base_uri": "https://localhost:8080/"
        },
        "id": "5suC4YFGF5k_",
        "outputId": "900f1529-40d9-4990-ca08-2dc57f9858e7"
      },
      "source": [
        "a=  input(\"Enter name... \")\n",
        "print(a*10)\n",
        "b= input(\" Enter COB \")\n",
        "print(\"   \" + a+\"  \"+b)"
      ],
      "execution_count": null,
      "outputs": [
        {
          "output_type": "stream",
          "text": [
            "Enter name... Yash\n",
            "YashYashYashYashYashYashYashYashYashYash\n",
            " Enter COB Knp\n",
            "   Yash  Knp\n"
          ],
          "name": "stdout"
        }
      ]
    },
    {
      "cell_type": "code",
      "metadata": {
        "colab": {
          "base_uri": "https://localhost:8080/"
        },
        "id": "WjEi5o_UJqCb",
        "outputId": "1cf5dd9b-4011-409d-d41f-576e4dd04d8d"
      },
      "source": [
        " for a in range(65 , 91):\n",
        "   print( chr(a), end=\" \")\n",
        "print()\n",
        "for a in range(97 , 123):\n",
        "   print( chr(a), end=\" \")\n",
        " "
      ],
      "execution_count": null,
      "outputs": [
        {
          "output_type": "stream",
          "text": [
            "A B C D E F G H I J K L M N O P Q R S T U V W X Y Z \n",
            "a b c d e f g h i j k l m n o p q r s t u v w x y z "
          ],
          "name": "stdout"
        }
      ]
    },
    {
      "cell_type": "code",
      "metadata": {
        "colab": {
          "base_uri": "https://localhost:8080/"
        },
        "id": "3hFG7idYCxje",
        "outputId": "de9cce0b-c73b-4cde-89b2-fec75f8edb6b"
      },
      "source": [
        "a=input(\" Enter a value ..\")\n",
        "b=int( input(\" Enter a number ..   \"))\n",
        "print(a+\" \"+str(b))"
      ],
      "execution_count": null,
      "outputs": [
        {
          "output_type": "stream",
          "text": [
            " Enter a value ..vk\n",
            " Enter a number ..   25\n",
            "vk 25\n"
          ],
          "name": "stdout"
        }
      ]
    },
    {
      "cell_type": "code",
      "metadata": {
        "colab": {
          "base_uri": "https://localhost:8080/"
        },
        "id": "TonR9omkONr6",
        "outputId": "73898066-3255-43fb-e5ad-c18d6d90add3"
      },
      "source": [
        "sal=int( input(\" Enter Salary ... \"))\n",
        "da=hr=0\n",
        "if sal<10000:\n",
        "  da=30\n",
        "  hr=10\n",
        "elif sal<25000:\n",
        "  da,hr=25,15\n",
        "else:\n",
        "  da=hr=20\n",
        "daA=(sal*da)/100\n",
        "hrA=(sal*hr)/100\n",
        "fnSal=sal+hrA+daA\n",
        "print(fnSal)"
      ],
      "execution_count": null,
      "outputs": [
        {
          "output_type": "stream",
          "text": [
            " Enter Salary ... 5000\n",
            "7000.0\n"
          ],
          "name": "stdout"
        }
      ]
    },
    {
      "cell_type": "code",
      "metadata": {
        "colab": {
          "base_uri": "https://localhost:8080/"
        },
        "id": "FrR5uf0YDf-6",
        "outputId": "aed65626-b79b-43f3-bf23-1a96568f3043"
      },
      "source": [
        "a=b=c=d=50\n",
        "print(a,b,c,d)"
      ],
      "execution_count": null,
      "outputs": [
        {
          "output_type": "stream",
          "text": [
            "50 50 50 50\n"
          ],
          "name": "stdout"
        }
      ]
    },
    {
      "cell_type": "code",
      "metadata": {
        "colab": {
          "base_uri": "https://localhost:8080/"
        },
        "id": "Rt3db--hLHAf",
        "outputId": "9aae87e3-7bf6-440f-a1df-f23dc5764e23"
      },
      "source": [
        "a,b=5,3\n",
        "print(a+b , a-b , a*b, a/b, a//b, a%b, a**b)\n",
        "print(2/3)"
      ],
      "execution_count": null,
      "outputs": [
        {
          "output_type": "stream",
          "text": [
            "8 2 15 1.6666666666666667 1 2 125\n",
            "0.6666666666666666\n"
          ],
          "name": "stdout"
        }
      ]
    },
    {
      "cell_type": "code",
      "metadata": {
        "colab": {
          "base_uri": "https://localhost:8080/"
        },
        "id": "tonqtXgJLw2g",
        "outputId": "fc32d26a-f92e-4dcf-b296-b8167384427f"
      },
      "source": [
        "print(2**10) ; #print(1/0)"
      ],
      "execution_count": null,
      "outputs": [
        {
          "output_type": "stream",
          "text": [
            "1024\n"
          ],
          "name": "stdout"
        }
      ]
    },
    {
      "cell_type": "code",
      "metadata": {
        "colab": {
          "base_uri": "https://localhost:8080/"
        },
        "id": "8pcS8QBQh5uQ",
        "outputId": "4592713c-7d0d-4eb5-fb7b-e63fa34e277e"
      },
      "source": [
        "a=7\n",
        "b=3\n",
        "print (a+b, a-b, a*b, a//b, a*b, a**b,a%b)"
      ],
      "execution_count": null,
      "outputs": [
        {
          "output_type": "stream",
          "text": [
            "10 4 21 2 21 343 1\n"
          ],
          "name": "stdout"
        }
      ]
    },
    {
      "cell_type": "code",
      "metadata": {
        "colab": {
          "base_uri": "https://localhost:8080/"
        },
        "id": "CzmqI2xWkfqW",
        "outputId": "a1389f9c-e34b-4740-a4b8-177600a47e56"
      },
      "source": [
        "a,b=4,4\n",
        "print(a>b)\n",
        "print(a>=b)\n",
        "print(a<b)\n",
        "print(a<=b)\n",
        "print(a==b)\n",
        "print(a!=b)"
      ],
      "execution_count": null,
      "outputs": [
        {
          "output_type": "stream",
          "text": [
            "False\n",
            "True\n",
            "False\n",
            "True\n",
            "True\n",
            "False\n"
          ],
          "name": "stdout"
        }
      ]
    },
    {
      "cell_type": "code",
      "metadata": {
        "colab": {
          "base_uri": "https://localhost:8080/"
        },
        "id": "0BB2MpKnm2nf",
        "outputId": "db893ef7-25c7-4e3a-8c31-d18dba0e2e2c"
      },
      "source": [
        "x=50\n",
        "print(x)\n",
        "x=x+10\n",
        "print(x)\n",
        "x+=10\n",
        "print(x+1)\n",
        "print(x)\n",
        "print(x==80)"
      ],
      "execution_count": null,
      "outputs": [
        {
          "output_type": "stream",
          "text": [
            "50\n",
            "60\n",
            "71\n",
            "70\n",
            "False\n"
          ],
          "name": "stdout"
        }
      ]
    },
    {
      "cell_type": "code",
      "metadata": {
        "colab": {
          "base_uri": "https://localhost:8080/"
        },
        "id": "Fz1z1PUvIHHf",
        "outputId": "7aca5078-7f5e-460a-8eec-21104e8cc8a4"
      },
      "source": [
        "a=\"my name is\"\n",
        "print(a , \"sahil bagga\")"
      ],
      "execution_count": null,
      "outputs": [
        {
          "output_type": "stream",
          "text": [
            "my name is sahil bagga\n"
          ],
          "name": "stdout"
        }
      ]
    },
    {
      "cell_type": "code",
      "metadata": {
        "id": "hldRooDNMYv5"
      },
      "source": [
        "x,y = 2,3\n",
        "print(\"%d equal to %d: %s\" % (x,y,(x==y)))\n",
        "print(\"%d greater than %d:%s \" % (x,y,(x>y)))\n"
      ],
      "execution_count": null,
      "outputs": []
    },
    {
      "cell_type": "code",
      "metadata": {
        "colab": {
          "base_uri": "https://localhost:8080/"
        },
        "id": "RZqS8tfwQqPn",
        "outputId": "0021741f-8582-4b9a-dabf-5b49a5a0b81f"
      },
      "source": [
        "a,b,c,d,e = 4, 8, 6, 3, 2\n",
        "print (\"[(%i>%i) and (%i>%i)] is: %s\" %(a, b, b, c,((a>b) and (b>c))))\n"
      ],
      "execution_count": null,
      "outputs": [
        {
          "output_type": "stream",
          "text": [
            "[(4>8) and (8>6)] is: False\n"
          ],
          "name": "stdout"
        }
      ]
    },
    {
      "cell_type": "code",
      "metadata": {
        "colab": {
          "base_uri": "https://localhost:8080/"
        },
        "id": "45SbxkjRVNwl",
        "outputId": "430538d5-d3e9-4853-cc3a-dadccfccceff"
      },
      "source": [
        "a , b , c , d = 4.565 , 8.965 , 5.258 , 9.658\n",
        "print(\"[(%1.2f < %1.3f) and (%1.3f > %1.3f)] is : %s\"%(a,b,b,c,((a<b) and (b>c))))"
      ],
      "execution_count": null,
      "outputs": [
        {
          "output_type": "stream",
          "text": [
            "[(4.57 < 8.965) and (8.965 > 5.258)] is : True\n"
          ],
          "name": "stdout"
        }
      ]
    },
    {
      "cell_type": "code",
      "metadata": {
        "colab": {
          "base_uri": "https://localhost:8080/"
        },
        "id": "1VWyVVrqyObX",
        "outputId": "ab54f750-f2ce-4edd-e6fd-644e64f73855"
      },
      "source": [
        "+l=int(input(\"Input the length of the cuboid: \"))\n",
        "b=int(input(\"Input the breadth of the cuboid: \"))\n",
        "h=int(input(\"Input the height of the cuboid: \"))\n",
        "print(\"the volume of cuboid is \" +str(l*b*h))"
      ],
      "execution_count": null,
      "outputs": [
        {
          "output_type": "stream",
          "text": [
            "Input the length of the cuboid: 44\n",
            "Input the breadth of the cuboid: 3\n",
            "Input the height of the cuboid: 23\n",
            "the volume of cuboid is 3036\n"
          ],
          "name": "stdout"
        }
      ]
    },
    {
      "cell_type": "code",
      "metadata": {
        "colab": {
          "base_uri": "https://localhost:8080/"
        },
        "id": "kXEFuq6vwOa8",
        "outputId": "c0a3fc41-2873-46b8-f223-d08e92fb396a"
      },
      "source": [
        "pi=float(3.14)\n",
        "r=int(input(\"Input the radius of the sphere: \"))\n",
        "h=int(input(\"Input the height of the sphere: \"))\n",
        "print(\"the volume of sphere \" + str(r) + \" is \" + str(4/3*pi* r**2*h))"
      ],
      "execution_count": null,
      "outputs": [
        {
          "output_type": "stream",
          "text": [
            "Input the radius of the sphere: 4\n",
            "Input the height of the sphere: 5\n",
            "the volume of sphere 4 is 334.93333333333334\n"
          ],
          "name": "stdout"
        }
      ]
    },
    {
      "cell_type": "code",
      "metadata": {
        "colab": {
          "base_uri": "https://localhost:8080/"
        },
        "id": "67kmLKg5vg-X",
        "outputId": "308cd05c-a9c1-449b-c612-b3a3597124a7"
      },
      "source": [
        "pi=float(3.14)\n",
        "r=int(input(\"Input the radius of the circle: \"))\n",
        "print(\"the area of the circle with radius \" + str(r) + \" is: \" + str(pi * r**2))"
      ],
      "execution_count": null,
      "outputs": [
        {
          "output_type": "stream",
          "text": [
            "Input the radius of the circle: 5\n",
            "the area of the circle with radius 5 is: 78.5\n"
          ],
          "name": "stdout"
        }
      ]
    },
    {
      "cell_type": "code",
      "metadata": {
        "colab": {
          "base_uri": "https://localhost:8080/"
        },
        "id": "tIAuHpo3Davd",
        "outputId": "b9afb54d-a579-4639-c7c7-9c3474ed9a18"
      },
      "source": [
        "#using logical operators\n",
        "a,b,c,d=16,25,18,1\n",
        "print(\"[%i>%i) and (%i>%i)] is: %s\" %(a,b,b,c,((a>b)and (b>c))))\n",
        "print(\"[%i>%i) and (%i==%i)] is: %s\" %(a,b,c,d,((a>b) and (c==d))))\n",
        "print(\"[%i<%i) and (%i<>%i)] is: %s\" %(a,b,c,d,((a>b) and (c<d))))\n",
        "print(\"[%i>%i) and (%i<%i)] is: %s\" %(a,b,c,c,((a>b) and (c>d))))\n",
        "print(\"[%i<%i) and (%i<%i)] is: %s\" %(a,b,c,c,((a<b) and (c>d))))\n",
        "print(\"[%i<%i) and (%i>%i)] is: %s\" %(a,b,c,c,((a<b) and (c>d))))\n",
        "print(\"[%i==%i) and (%i==%i)] is: %s\" %(a,b,c,c,((a==b) and (c==d))))\n",
        "print(\"[%i>%i) or (%i>%i)] is: %s\" %(a,b,b,c,((a>b) or (b>c))))\n",
        "print(\"[%i>%i) or (%i==%i)] is: %s\" %(a,b,c,d,((a>b) or (c==d))))\n"
      ],
      "execution_count": null,
      "outputs": [
        {
          "output_type": "stream",
          "text": [
            "[16>25) and (25>18)] is: False\n",
            "[16>25) and (18==1)] is: False\n",
            "[16<25) and (18<>1)] is: False\n",
            "[16>25) and (18<18)] is: False\n",
            "[16<25) and (18<18)] is: True\n",
            "[16<25) and (18>18)] is: True\n",
            "[16==25) and (18==18)] is: False\n",
            "[16>25) or (25>18)] is: True\n",
            "[16>25) or (18==1)] is: False\n"
          ],
          "name": "stdout"
        }
      ]
    },
    {
      "cell_type": "code",
      "metadata": {
        "colab": {
          "base_uri": "https://localhost:8080/"
        },
        "id": "KlTZzImmVfpS",
        "outputId": "fede39ea-3373-40e9-dba6-cee86991ed84"
      },
      "source": [
        "a,b,c=5,2,6 \n",
        "d=a+b+c / 10 \n",
        "e=(a+b+c)/10 \n",
        "print(e,d)"
      ],
      "execution_count": null,
      "outputs": [
        {
          "output_type": "stream",
          "text": [
            "1.3 7.6\n"
          ],
          "name": "stdout"
        }
      ]
    },
    {
      "cell_type": "code",
      "metadata": {
        "colab": {
          "base_uri": "https://localhost:8080/"
        },
        "id": "FtAYvaQGWKjj",
        "outputId": "df4a8507-30cc-4642-c90f-f4ddd679991e"
      },
      "source": [
        "a,b,c=6,3,8 \n",
        "if a < b:\n",
        "  if a<c:\n",
        "    print(a) \n",
        "  else:\n",
        "    print(c)\n",
        "else:\n",
        "  if b<c:\n",
        "    print(b)\n",
        "  else:\n",
        "    print(c)"
      ],
      "execution_count": null,
      "outputs": [
        {
          "output_type": "stream",
          "text": [
            "3\n"
          ],
          "name": "stdout"
        }
      ]
    },
    {
      "cell_type": "code",
      "metadata": {
        "colab": {
          "base_uri": "https://localhost:8080/"
        },
        "id": "SsVEjPYfWiyR",
        "outputId": "7e30975b-5d95-424d-9635-7172e8852ce7"
      },
      "source": [
        "a,b,c=6,3,8 \n",
        "if a<b and a<c:\n",
        "  print(a, ' is smallest')\n",
        "elif b<c:\n",
        "  print(b, ' is smallest')\n",
        "else:\n",
        "  print(c, ' is smallest')"
      ],
      "execution_count": null,
      "outputs": [
        {
          "output_type": "stream",
          "text": [
            "3  is smallest\n"
          ],
          "name": "stdout"
        }
      ]
    },
    {
      "cell_type": "code",
      "metadata": {
        "colab": {
          "base_uri": "https://localhost:8080/"
        },
        "id": "SlgCXnX6W5Np",
        "outputId": "5663d354-2d56-4be8-d809-893e9e690991"
      },
      "source": [
        "a,b,c=6,3,8 \n",
        "if a<b<c:\n",
        "   print(a, ' is smallest')\n",
        "elif b<c:\n",
        "   print(b, ' is smallest')   \n",
        "else:\n",
        "  print(c, ' is smallest')\n"
      ],
      "execution_count": null,
      "outputs": [
        {
          "output_type": "stream",
          "text": [
            "3  is smallest\n"
          ],
          "name": "stdout"
        }
      ]
    },
    {
      "cell_type": "code",
      "metadata": {
        "colab": {
          "base_uri": "https://localhost:8080/"
        },
        "id": "VGd90lLAWU7x",
        "outputId": "28627236-fda6-4874-98f9-b7b342da6c2b"
      },
      "source": [
        "n=int(input(\" Enter .... \"))\n",
        "if n<0:\n",
        "  print(n*-1)\n",
        "else:\n",
        "  print(n)"
      ],
      "execution_count": null,
      "outputs": [
        {
          "output_type": "stream",
          "text": [
            " Enter .... -6\n",
            "6\n"
          ],
          "name": "stdout"
        }
      ]
    },
    {
      "cell_type": "code",
      "metadata": {
        "colab": {
          "base_uri": "https://localhost:8080/"
        },
        "id": "CkpOMLU-bciB",
        "outputId": "e16cef95-415e-4b39-de05-600ba442dfb3"
      },
      "source": [
        "import math\n",
        "n=int(input(\" Enter .... \"))\n",
        "print(math.fabs(n))"
      ],
      "execution_count": null,
      "outputs": [
        {
          "output_type": "stream",
          "text": [
            " Enter .... 5\n",
            "5.0\n"
          ],
          "name": "stdout"
        }
      ]
    },
    {
      "cell_type": "code",
      "metadata": {
        "id": "mawO6KrHFZKj"
      },
      "source": [
        "#PRINT(\"SPSEC\")"
      ],
      "execution_count": null,
      "outputs": []
    },
    {
      "cell_type": "code",
      "metadata": {
        "colab": {
          "base_uri": "https://localhost:8080/"
        },
        "id": "Dn-NIoNNGpOw",
        "outputId": "03f24495-5522-436d-da0f-96eb717110b5"
      },
      "source": [
        "a=5\n",
        "print( (float)(a))\n",
        "b=5.5\n",
        "print((int)(b))\n",
        "c=5085\n",
        "print(c+1)\n",
        "print(str(c)+\"1\")\n",
        "print(str('I am in SPSEC '))\n",
        "print(str('''I am in SPSEC '''))\n",
        "print(str(50/3))\n",
        "print(50/3)\n"
      ],
      "execution_count": null,
      "outputs": [
        {
          "output_type": "stream",
          "text": [
            "5.0\n",
            "5\n",
            "5086\n",
            "50851\n",
            "I am in SPSEC \n",
            "I am in SPSEC \n",
            "16.666666666666668\n",
            "16.666666666666668\n"
          ],
          "name": "stdout"
        }
      ]
    },
    {
      "cell_type": "code",
      "metadata": {
        "colab": {
          "base_uri": "https://localhost:8080/"
        },
        "id": "Cf6HuNFLJxck",
        "outputId": "769a069e-93ad-4653-d625-7cbddc1eb5ca"
      },
      "source": [
        "a=34\n",
        "print(type(a))\n",
        "if type(a)== int:\n",
        "  print(\" Yes it is an INTEGER\")"
      ],
      "execution_count": null,
      "outputs": [
        {
          "output_type": "stream",
          "text": [
            "<class 'int'>\n",
            " Yes it is an INTEGER\n"
          ],
          "name": "stdout"
        }
      ]
    },
    {
      "cell_type": "code",
      "metadata": {
        "colab": {
          "base_uri": "https://localhost:8080/"
        },
        "id": "arKpwTo8KVh2",
        "outputId": "e5e68c2f-ff9d-4f83-fdc8-7b31248f751e"
      },
      "source": [
        "print(22/7)\n",
        "print(str(22/7))\n",
        "print(int(22/7))\n",
        "print(eval(\"22/7\"))\n",
        "sr=\"52*5+6\"\n",
        "print(eval(sr))\n",
        "print(str(eval('22/7')))"
      ],
      "execution_count": null,
      "outputs": [
        {
          "output_type": "stream",
          "text": [
            "3.142857142857143\n",
            "3.142857142857143\n",
            "3\n",
            "3.142857142857143\n",
            "266\n",
            "3.142857142857143\n"
          ],
          "name": "stdout"
        }
      ]
    },
    {
      "cell_type": "code",
      "metadata": {
        "colab": {
          "base_uri": "https://localhost:8080/"
        },
        "id": "Qbc3a30uLNcP",
        "outputId": "fc101c94-d9d0-485b-a036-c63ee30aa97e"
      },
      "source": [
        "print(chr(65) , chr(90))\n",
        "print(chr(122) , chr(97))\n",
        "print(chr(48) , chr(57))\n",
        "print(chr(91) ,chr(93)  , chr(96), chr(28))"
      ],
      "execution_count": null,
      "outputs": [
        {
          "output_type": "stream",
          "text": [
            "A Z\n",
            "z a\n",
            "0 9\n",
            "[ ] ` \u001c\n"
          ],
          "name": "stdout"
        }
      ]
    },
    {
      "cell_type": "code",
      "metadata": {
        "colab": {
          "base_uri": "https://localhost:8080/"
        },
        "id": "svNWiyAFLkOM",
        "outputId": "f58421d5-6718-41b0-f7dd-c1dd719424ca"
      },
      "source": [
        "print( ord('A'), ord('Z'))\n",
        "print( ord('a'), ord('z'))\n",
        "print( ord('*'), ord('='))\n",
        "print( ord('+'), ord(' '))\n"
      ],
      "execution_count": null,
      "outputs": [
        {
          "output_type": "stream",
          "text": [
            "65 90\n",
            "97 122\n",
            "42 61\n",
            "43 32\n"
          ],
          "name": "stdout"
        }
      ]
    },
    {
      "cell_type": "code",
      "metadata": {
        "colab": {
          "base_uri": "https://localhost:8080/"
        },
        "id": "xa_t2QXYMuPn",
        "outputId": "5f9fc793-1c36-4241-cee2-1cbc1b53da3a"
      },
      "source": [
        "print(oct(65), hex(65), bin(65) )"
      ],
      "execution_count": null,
      "outputs": [
        {
          "output_type": "stream",
          "text": [
            "0o101 0x41 0b1000001\n"
          ],
          "name": "stdout"
        }
      ]
    },
    {
      "cell_type": "code",
      "metadata": {
        "colab": {
          "base_uri": "https://localhost:8080/"
        },
        "id": "8h5Vs0s5QJCg",
        "outputId": "6d1bfd9c-af97-447a-eb83-d00f61054543"
      },
      "source": [
        "a=7\n",
        "a=a+5 \n",
        "print(a)\n",
        "b=8\n",
        "b+=5\n",
        "print(b)"
      ],
      "execution_count": null,
      "outputs": [
        {
          "output_type": "stream",
          "text": [
            "12\n",
            "13\n"
          ],
          "name": "stdout"
        }
      ]
    },
    {
      "cell_type": "code",
      "metadata": {
        "colab": {
          "base_uri": "https://localhost:8080/"
        },
        "id": "iFCqOY9DPtA6",
        "outputId": "ab18e422-6c59-4068-b126-da12e08d542a"
      },
      "source": [
        "x=input()\n",
        "if type(x)==int:\n",
        "    print(\"gogogo\")"
      ],
      "execution_count": null,
      "outputs": [
        {
          "output_type": "stream",
          "text": [
            "10\n"
          ],
          "name": "stdout"
        }
      ]
    },
    {
      "cell_type": "code",
      "metadata": {
        "colab": {
          "base_uri": "https://localhost:8080/"
        },
        "id": "sLCpWSc7Hmw2",
        "outputId": "fd837929-9411-4eb5-9eb6-448d0f6be8f8"
      },
      "source": [
        "x = input()\n",
        "y = input()\n",
        "if type(x) == type(y) == int:\n",
        "  print(\"Hey!! given input is an integral value\")\n",
        "else :\n",
        "  print(\"Hey!! given input is a string\")\n",
        "# it will always execute else statement because default data type of input is string"
      ],
      "execution_count": null,
      "outputs": [
        {
          "output_type": "stream",
          "text": [
            "sahil\n",
            "bagga\n",
            "Hey!! given input is a string\n"
          ],
          "name": "stdout"
        }
      ]
    },
    {
      "cell_type": "code",
      "metadata": {
        "colab": {
          "base_uri": "https://localhost:8080/"
        },
        "id": "3XYbFU5MMdNe",
        "outputId": "3e99ec56-1ca1-48b4-abea-ae10623763e7"
      },
      "source": [
        "x = \"8\"\n",
        "y = \"4\"\n",
        "print ( x+y)\n",
        "print (str ( 8+4)+\"4\")\n",
        "print(str(x)+str(y)+\"4\")\n",
        "#  sir here i have assigned string values to x and y , so on adding they got concatenated\n",
        "#  but in 4th line also i assigned that 8 and 4 are strings , so why both of them didn't got concatenated\n"
      ],
      "execution_count": null,
      "outputs": [
        {
          "output_type": "stream",
          "text": [
            "84\n",
            "124\n",
            "844\n"
          ],
          "name": "stdout"
        }
      ]
    },
    {
      "cell_type": "code",
      "metadata": {
        "colab": {
          "base_uri": "https://localhost:8080/"
        },
        "id": "_vwbo9bgN_vB",
        "outputId": "4d50e5ed-c381-4536-c6b2-7e11c7aca4f5"
      },
      "source": [
        "a = int(input(\"Type any ascii code to see it's alphabetical value: \"))\n",
        "print(\"value of ascii code given in input is: \" , chr(a))\n",
        "b = (input(\"Type any alphabet to see it's ascii code: \"))\n",
        "print(ord(b))\n",
        "c = int(input(\"Type any integer to see it's hexa-dcimal code: \"))\n",
        "print(\"It's hexa-decimal code is :\" , hex(c))\n",
        "d = int(input(\"Type any integer to see it's octa-decimal code: \"))\n",
        "print(\"It's octa-decimal code is: \" , oct(d))\n",
        "e = int(input(\"type any number to se it's binary code: \"))\n",
        "print (\"binary code of the given input is: \" , bin (e))"
      ],
      "execution_count": null,
      "outputs": [
        {
          "output_type": "stream",
          "text": [
            "Type any ascii code to see it's alphabetical value: 115\n",
            "value of ascii code given in input is:  s\n"
          ],
          "name": "stdout"
        }
      ]
    },
    {
      "cell_type": "code",
      "metadata": {
        "colab": {
          "base_uri": "https://localhost:8080/"
        },
        "id": "DnS3yc3MLmBc",
        "outputId": "5e875fc0-c2df-4d8b-ecb3-e713d62bd3bd"
      },
      "source": [
        "st=('aviral','sahil','yash')\n",
        "print('aviral' in st)\n",
        "print('aviRal' in st)\n",
        "print('avinash' not in st)"
      ],
      "execution_count": null,
      "outputs": [
        {
          "output_type": "stream",
          "text": [
            "True\n",
            "False\n",
            "True\n"
          ],
          "name": "stdout"
        }
      ]
    },
    {
      "cell_type": "code",
      "metadata": {
        "colab": {
          "base_uri": "https://localhost:8080/"
        },
        "id": "5M04ewLNL4bp",
        "outputId": "0f6f4410-9219-41b4-d17f-864d64ce8ab5"
      },
      "source": [
        "a=5\n",
        "b=5\n",
        "print(a is b)\n",
        "c=5\n",
        "print(a is c)\n",
        "print(id(a), id(b), id(c))"
      ],
      "execution_count": null,
      "outputs": [
        {
          "output_type": "stream",
          "text": [
            "True\n",
            "True\n",
            "93922542721664 93922542721664 93922542721664\n"
          ],
          "name": "stdout"
        }
      ]
    },
    {
      "cell_type": "code",
      "metadata": {
        "id": "OjkuHXB8N9nv"
      },
      "source": [
        "for i in range(65,91):\n",
        "  print(chr(i),' ' , i , end=\" -> \")\n",
        "  if i%10==0:\n",
        "    print()"
      ],
      "execution_count": null,
      "outputs": []
    },
    {
      "cell_type": "code",
      "metadata": {
        "colab": {
          "base_uri": "https://localhost:8080/"
        },
        "id": "lNkqRSMRG1zz",
        "outputId": "7a1668ed-81f6-4011-df24-df23a138b738"
      },
      "source": [
        "first = int(input(\"Type your first number\"))\n",
        "second =int(input(\"Type your second number\"))\n",
        "print(\"Question - Are both the given inputs same?\")\n",
        "print(\"Answer - \" , (first is second))\n",
        "print(\"Question - Are both the given inputs different?\")\n",
        "print(\"Answer - \" , (first is not second ))\n"
      ],
      "execution_count": null,
      "outputs": [
        {
          "output_type": "stream",
          "text": [
            "Type your first number7\n",
            "Type your second number17\n",
            "Question - Are both the given inputs same?\n",
            "Answer -  False\n",
            "Question - Are both the given inputs different?\n",
            "Answer -  True\n"
          ],
          "name": "stdout"
        }
      ]
    },
    {
      "cell_type": "code",
      "metadata": {
        "colab": {
          "base_uri": "https://localhost:8080/"
        },
        "id": "7kultg0hp0s3",
        "outputId": "1577fcd0-117b-48a0-fe19-488f1b78d9ff"
      },
      "source": [
        "a=4\n",
        "print(++a)\n",
        "#print(a++)\n",
        "print(a+1)\n",
        "print(a)\n",
        "#print(a+=1)"
      ],
      "execution_count": null,
      "outputs": [
        {
          "output_type": "stream",
          "text": [
            "4\n",
            "5\n",
            "4\n"
          ],
          "name": "stdout"
        }
      ]
    },
    {
      "cell_type": "code",
      "metadata": {
        "colab": {
          "base_uri": "https://localhost:8080/"
        },
        "id": "AkWXPrkqqQIY",
        "outputId": "c64b6bdd-a70f-49f9-e286-7afe73d13f38"
      },
      "source": [
        "a,b,c=1,2,4\n",
        "a=+c + ++b/c\n",
        "print('a is %d'%a)\n",
        "print(a)"
      ],
      "execution_count": null,
      "outputs": [
        {
          "output_type": "stream",
          "text": [
            "a is 4\n",
            "4.5\n"
          ],
          "name": "stdout"
        }
      ]
    },
    {
      "cell_type": "code",
      "metadata": {
        "id": "O1jaRNkeUXj7",
        "colab": {
          "base_uri": "https://localhost:8080/"
        },
        "outputId": "5f03b3f7-5ee6-4aea-9e59-c2c16fc9480c"
      },
      "source": [
        "number = int(input(\"Please enter your number here \"))\n",
        "if number > 0:\n",
        "  print(\"Entered number is positive\")\n",
        "elif number == 0:\n",
        "  print(\"Entered number is neither positive nor negetive \")\n",
        "else:\n",
        "  print(\"Entered number is negetive\")\n"
      ],
      "execution_count": null,
      "outputs": [
        {
          "output_type": "stream",
          "text": [
            "Please enter your number here 0\n",
            "Entered number is neither positive nor negetive \n"
          ],
          "name": "stdout"
        }
      ]
    },
    {
      "cell_type": "code",
      "metadata": {
        "colab": {
          "base_uri": "https://localhost:8080/"
        },
        "id": "JQHOnFSYGMD1",
        "outputId": "2c6cbae1-f265-4e23-db19-f1387b754df0"
      },
      "source": [
        "r = int(input(\"Type the radius of sphere \"   ))\n",
        "v = (4/3)*(22/7)*r**3 \n",
        "sr = 4*(22/7)*r**2\n",
        "if r < 0:\n",
        "  print(\"Volume is negetive and Surface area is positive\")\n",
        "else:\n",
        "  print(\"volume is positive and Surface area is also positive \")\n",
        "print(\"Volume of the sphere is \" , v)\n",
        "print(\"Surface area of the sphere is \" , sr)"
      ],
      "execution_count": null,
      "outputs": [
        {
          "output_type": "stream",
          "text": [
            "Type the radius of sphere -78\n",
            "Volume is negetive and Surface area is positive\n",
            "Volume of the sphere is  -1988598.8571428568\n",
            "Surface area of the sphere is  76484.57142857142\n"
          ],
          "name": "stdout"
        }
      ]
    },
    {
      "cell_type": "code",
      "metadata": {
        "id": "SKF2XDAtHiu6",
        "colab": {
          "base_uri": "https://localhost:8080/"
        },
        "outputId": "1a23cd58-0f22-4ccc-af0c-6bbcf2c20282"
      },
      "source": [
        "p = int(input(\"Type the principle amount in rupees ; \"))\n",
        "r = int(input(\"Type the intrest rate/anum ;  \"))\n",
        "t = int(input(\"Type the time period in years ; \"))\n",
        "si = (p*r*t)/100 \n",
        "finalamt = si + p\n",
        "print(\"Intrest charged on the principle =  \" , si )\n",
        "print(\"Final amount to be payed = \" ,  finalamt)\n",
        "if finalamt >= 50000:\n",
        "  print(\"Dear customer , This is to inform you that as per the changes in the guidelines of the bank you have to pay your final amount that is \" , (finalamt) , \"needs to get debitted before 1st july,2021\")\n",
        "else:\n",
        "    print(\"Dear customer , This is to inform you that as per the changes in the guidelines of the bank you have to pay your final amount that is \" , (finalamt) , \"by tomorrow , else we will cease your account.\")"
      ],
      "execution_count": null,
      "outputs": [
        {
          "output_type": "stream",
          "text": [
            "Type the principle amount in rupees ; 12000\n",
            "Type the intrest rate/anum ;  4\n",
            "Type the time period in years ; 5\n",
            "Intrest charged on the principle =   2400.0\n",
            "Final amount to be payed =  14400.0\n",
            "Dear customer , This is to inform you that as per the changes in the guidelines of the bank you have to pay your final amount that is  14400.0 by tomorrow , else we will cease your account\n"
          ],
          "name": "stdout"
        }
      ]
    },
    {
      "cell_type": "code",
      "metadata": {
        "id": "tJ2ea_wZIX3f"
      },
      "source": [
        "height = float(input(\"enter your height in meters: \"))\n",
        "weight = float(input(\"enter your weight in kg: \"))\n",
        "\n",
        "bmi = weight // (height**2)\n",
        "if bmi < 18.5:\n",
        "  print(f'Your BMI is {bmi}, you are underweight')\n",
        "elif bmi < 25:\n",
        "  print(f\"your BMI is {bmi} you have an normal weight\")\n",
        "elif bmi < 30:\n",
        "  print(f\"Your BMI is {bmi}, you are slightly overweight\")\n",
        "elif bmi < 35:\n",
        "  print(f\"Your BMI is {bmi}, you are obese\")\n",
        "else:\n",
        "  print(f\"Your BMI is {bmi}, you are clinically obese\")\n"
      ],
      "execution_count": null,
      "outputs": []
    },
    {
      "cell_type": "code",
      "metadata": {
        "colab": {
          "base_uri": "https://localhost:8080/"
        },
        "id": "C1wqJoSfYv11",
        "outputId": "206a2273-16f5-4f14-f0ab-4c629cff60a3"
      },
      "source": [
        "if 1<3:\n",
        "  print(' Yes ')"
      ],
      "execution_count": null,
      "outputs": [
        {
          "output_type": "stream",
          "text": [
            " Yes \n"
          ],
          "name": "stdout"
        }
      ]
    },
    {
      "cell_type": "code",
      "metadata": {
        "colab": {
          "base_uri": "https://localhost:8080/"
        },
        "id": "K5LxH_jxY4qs",
        "outputId": "e4a82eb3-11b2-4025-d848-1cf574aaf845"
      },
      "source": [
        "if True:\n",
        "  print(' Yes ')"
      ],
      "execution_count": null,
      "outputs": [
        {
          "output_type": "stream",
          "text": [
            " Yes \n"
          ],
          "name": "stdout"
        }
      ]
    },
    {
      "cell_type": "code",
      "metadata": {
        "colab": {
          "base_uri": "https://localhost:8080/"
        },
        "id": "scvHOfFdaaMN",
        "outputId": "86a78689-9d64-4071-b978-5af184145676"
      },
      "source": [
        "if False:\n",
        "  print(' Yes ')\n",
        "else:\n",
        "  print(' No ')"
      ],
      "execution_count": null,
      "outputs": [
        {
          "output_type": "stream",
          "text": [
            " No \n"
          ],
          "name": "stdout"
        }
      ]
    },
    {
      "cell_type": "code",
      "metadata": {
        "colab": {
          "base_uri": "https://localhost:8080/"
        },
        "id": "Z7imU9Sbd9Gl",
        "outputId": "e7fb4900-eea0-4f9f-b299-297d836636d1"
      },
      "source": [
        "# Div by 7 .. 28 OR ends wd 7 ... 37 BUZZ nos\n",
        "n= int( input(' Enter .... '))\n",
        "if n%7==0 or n%10==7:\n",
        "  print(' Yes!! ')\n",
        "else:\n",
        "  print(' No!! ')"
      ],
      "execution_count": null,
      "outputs": [
        {
          "output_type": "stream",
          "text": [
            " Enter .... 250\n",
            " No!! \n"
          ],
          "name": "stdout"
        }
      ]
    },
    {
      "cell_type": "code",
      "metadata": {
        "id": "pD8IVz52TJ-j",
        "colab": {
          "base_uri": "https://localhost:8080/"
        },
        "outputId": "ae32b241-f507-4743-c44b-c3782676f46b"
      },
      "source": [
        "if 1:\n",
        "  print(' Yes ')"
      ],
      "execution_count": null,
      "outputs": [
        {
          "output_type": "stream",
          "text": [
            " Yes \n"
          ],
          "name": "stdout"
        }
      ]
    },
    {
      "cell_type": "code",
      "metadata": {
        "id": "A9pfuqicfUdp"
      },
      "source": [
        "ttl= int( input(' Enter .... '))\n",
        "if ttl>=85:\n",
        "  print(' Garade A ')\n",
        "elif ttl>=65:\n",
        "  print(' Grade B ')\n",
        "else:\n",
        "  print(' Grade C ')"
      ],
      "execution_count": null,
      "outputs": []
    },
    {
      "cell_type": "code",
      "metadata": {
        "colab": {
          "base_uri": "https://localhost:8080/"
        },
        "id": "tD7a_27D-QeW",
        "outputId": "1dc66a40-973c-4879-c5ea-234ba58a8f92"
      },
      "source": [
        "age = int(input(\"Please enter your age \"))\n",
        "if age > 18:\n",
        "  print(\"Bro!! you can vote\")\n",
        "elif age == 18:\n",
        "   print(\"Bro!! you are now an adult , so please go and claim your voter id card \")\n",
        "else:\n",
        "  print(\"Bro!! you are underage , so you can't vote\")"
      ],
      "execution_count": null,
      "outputs": [
        {
          "output_type": "stream",
          "text": [
            "Please enter your age 18\n",
            "Bro!! you are now an adult , so please go and claim your voter id card \n"
          ],
          "name": "stdout"
        }
      ]
    },
    {
      "cell_type": "code",
      "metadata": {
        "colab": {
          "base_uri": "https://localhost:8080/"
        },
        "id": "8VQqopTZCll4",
        "outputId": "ceed94fe-27d6-46ac-ab86-736aacc2a83f"
      },
      "source": [
        "year = int(input(\"Please enter your birth year \"))\n",
        "age = 2021 - year\n",
        "print (\"Your age is \" , age)\n",
        "if age < 18:\n",
        "    print (\"You are underage and you can't get vaccinated \")\n",
        "elif age < 45:\n",
        "  print (\"You are eligible to get vaccinated. Book a 18+ slot on www.cowin.gov.in\")\n",
        "\n",
        "else:\n",
        "  print(\"You are eligible to get vaccinated. Book a 45+ slot on www.cowin.gov.in\")\n"
      ],
      "execution_count": null,
      "outputs": [
        {
          "output_type": "stream",
          "text": [
            "Please enter your birth year 2000\n",
            "Your age is  21\n",
            "You are eligible to get vaccinated. Book a 18+ slot on www.cowin.gov.in\n"
          ],
          "name": "stdout"
        }
      ]
    },
    {
      "cell_type": "code",
      "metadata": {
        "colab": {
          "base_uri": "https://localhost:8080/"
        },
        "id": "jzS7Vwq9MRsA",
        "outputId": "483ddb96-0805-4259-a710-8223c4558700"
      },
      "source": [
        "a=int( input(' Enter ... '))\n",
        "b=int( input(' Enter ... '))\n",
        "x= a  if (a > b)  else b\n",
        "print(x)\n",
        "print( a  if (a > b)  else b)"
      ],
      "execution_count": null,
      "outputs": [
        {
          "output_type": "stream",
          "text": [
            " Enter ... 50\n",
            " Enter ... 20\n",
            "50\n",
            "50\n"
          ],
          "name": "stdout"
        }
      ]
    },
    {
      "cell_type": "code",
      "metadata": {
        "colab": {
          "base_uri": "https://localhost:8080/",
          "height": 52
        },
        "id": "Q5ReIokZPK5X",
        "outputId": "3b1f1054-b735-4689-e41c-165383234c4b"
      },
      "source": [
        "a=int( input(' Enter ... '))\n",
        "x= \"Negative \"  if (a <0)  else\" Positive \"\n",
        "x"
      ],
      "execution_count": null,
      "outputs": [
        {
          "output_type": "stream",
          "text": [
            " Enter ... -3\n"
          ],
          "name": "stdout"
        },
        {
          "output_type": "execute_result",
          "data": {
            "application/vnd.google.colaboratory.intrinsic+json": {
              "type": "string"
            },
            "text/plain": [
              "'Negative '"
            ]
          },
          "metadata": {
            "tags": []
          },
          "execution_count": 7
        }
      ]
    },
    {
      "cell_type": "code",
      "metadata": {
        "colab": {
          "base_uri": "https://localhost:8080/"
        },
        "id": "k81q03pcDv3H",
        "outputId": "0d7494e2-6dcb-4700-bf94-8da10cbd920e"
      },
      "source": [
        "a = int(input(\"Type the greater number (A) \"))\n",
        "b = int(input(\"Type the smaller number (B) \"))\n",
        "print(\"Total numbers between a and b are\" , a-b)"
      ],
      "execution_count": null,
      "outputs": [
        {
          "output_type": "stream",
          "text": [
            "Type the greater number (A) 5455116515615\n",
            "Type the smaller number (B) 4874154314514\n",
            "Total numbers between a and b are 580962201101\n"
          ],
          "name": "stdout"
        }
      ]
    },
    {
      "cell_type": "code",
      "metadata": {
        "id": "aIeuRN7KJmjD",
        "colab": {
          "base_uri": "https://localhost:8080/"
        },
        "outputId": "a2701dc1-ca53-40b8-88e5-71656b367601"
      },
      "source": [
        "day = int(input(\"please type the day number \"))\n",
        "if day== 1:\n",
        "    print(\"Monday\")\n",
        "elif day== 2:\n",
        "    print(\"Tuesday\")\n",
        "elif day==3:\n",
        "    print(\"Wedneaday\")\n",
        "elif day==4:\n",
        "    print(\"Thursday\")\n",
        "elif day==5:\n",
        "    print(\"Fryday\")\n",
        "elif day==6:\n",
        "    print(\"Saturday\")\n",
        "elif day==7:\n",
        "    print(\"Sunday\")\n",
        "else:\n",
        "  print(\"Please enter a valid day number\")"
      ],
      "execution_count": null,
      "outputs": [
        {
          "output_type": "stream",
          "text": [
            "please type the day number 7\n",
            "Sunday\n"
          ],
          "name": "stdout"
        }
      ]
    },
    {
      "cell_type": "code",
      "metadata": {
        "colab": {
          "base_uri": "https://localhost:8080/"
        },
        "id": "nfwu-DWNEkji",
        "outputId": "29167b49-d3c3-473d-9e20-fa20857b615a"
      },
      "source": [
        "fn=int(input(\"What is the first number? \"))\n",
        "sn=int(input(\"What is the second number? \"))\n",
        "tn=int(input(\"What is the third number? \"))\n",
        "if ((fn > sn) and (fn>tn)):\n",
        "    print(\"The bigger value is\",fn)\n",
        "elif(sn>tn) and (sn>fn):\n",
        "   print(\"The bigger value is\",sn)\n",
        "else:\n",
        "   print(\"The bigger value is\",tn)"
      ],
      "execution_count": null,
      "outputs": [
        {
          "output_type": "stream",
          "text": [
            "What is the first number? 55\n",
            "What is the second number? 25\n",
            "What is the third number? 48\n",
            "The bigger value is 55\n"
          ],
          "name": "stdout"
        }
      ]
    },
    {
      "cell_type": "code",
      "metadata": {
        "colab": {
          "base_uri": "https://localhost:8080/"
        },
        "id": "QLhAzI4zJMZT",
        "outputId": "fefaef59-9825-4510-a7e9-0d91c1bc988c"
      },
      "source": [
        "nm=['Sun','Mon','Tue']\n",
        "no=int(input(' Enter ... '))\n",
        "print(nm[no])"
      ],
      "execution_count": null,
      "outputs": [
        {
          "output_type": "stream",
          "text": [
            " Enter ... 0\n",
            "Sun\n"
          ],
          "name": "stdout"
        }
      ]
    },
    {
      "cell_type": "code",
      "metadata": {
        "colab": {
          "base_uri": "https://localhost:8080/"
        },
        "id": "D6F6TtiFKUrf",
        "outputId": "6bd2a1d6-ab99-4003-e5f6-a034ab1aaca3"
      },
      "source": [
        "ttl= int( input(' Enter .... '))\n",
        "if ttl>=85:\n",
        "  fr='A'\n",
        "  pr=9\n",
        "elif ttl>=65:\n",
        "  fr='B'\n",
        "  pr=7\n",
        "else:\n",
        "  fr='C'\n",
        "  pr=5\n",
        "print(fr, '  ', pr)"
      ],
      "execution_count": null,
      "outputs": [
        {
          "output_type": "stream",
          "text": [
            " Enter .... 66\n",
            "B    7\n"
          ],
          "name": "stdout"
        }
      ]
    },
    {
      "cell_type": "code",
      "metadata": {
        "id": "ZcIinerCMaJQ"
      },
      "source": [
        ""
      ],
      "execution_count": null,
      "outputs": []
    },
    {
      "cell_type": "code",
      "metadata": {
        "colab": {
          "base_uri": "https://localhost:8080/"
        },
        "id": "YaF6IiEkMaSf",
        "outputId": "a621d172-87ba-490d-a960-a8c1a941a1ee"
      },
      "source": [
        "ch=input(\" Enter a character \")\n",
        "if ch in \"aeiouAEIOU\":\n",
        "  print(' Vowel ')\n",
        "else:\n",
        "  print(' Consonant ')"
      ],
      "execution_count": null,
      "outputs": [
        {
          "output_type": "stream",
          "text": [
            " Enter a character a\n",
            " Vowel \n"
          ],
          "name": "stdout"
        }
      ]
    },
    {
      "cell_type": "code",
      "metadata": {
        "colab": {
          "base_uri": "https://localhost:8080/"
        },
        "id": "RbHyHcnmMowu",
        "outputId": "5a2a5d7a-2420-405b-89d7-7113406bb25e"
      },
      "source": [
        "ch=input(\" Enter a character \")\n",
        "if ch=='a' or ch=='e' or ch=='o' or ch=='i' or ch=='u':\n",
        "  print(' Vowel .. ')\n",
        "else:\n",
        "  print(' Con..') "
      ],
      "execution_count": null,
      "outputs": [
        {
          "output_type": "stream",
          "text": [
            " Enter a character a\n",
            " Vowel .. \n"
          ],
          "name": "stdout"
        }
      ]
    },
    {
      "cell_type": "code",
      "metadata": {
        "colab": {
          "base_uri": "https://localhost:8080/"
        },
        "id": "Mg0x_ZS3OWfH",
        "outputId": "9aa60fef-f281-42d7-c0e6-fd30d3312ce3"
      },
      "source": [
        "a = int(input('type the 1st side of triangle in centimeter '))\n",
        "b = int(input('type the 2nd side of triangle in centimeter '))\n",
        "c = int(input('type the 3rd side of triangle in centimeter '))\n",
        "if a == b == c:\n",
        "  print(\"Triangle is equilateral\")\n",
        "elif a == b or b == c or c == a:\n",
        "  print(\"Triangle is Isosceles\")\n",
        "else:\n",
        "  print(\"Triangle is scalene\")"
      ],
      "execution_count": null,
      "outputs": [
        {
          "output_type": "stream",
          "text": [
            "type the 1st side of triangle in centimeter 7\n",
            "type the 2nd side of triangle in centimeter 8\n",
            "type the 3rd side of triangle in centimeter 8\n",
            "Triangle is Isosceles\n"
          ],
          "name": "stdout"
        }
      ]
    },
    {
      "cell_type": "code",
      "metadata": {
        "colab": {
          "base_uri": "https://localhost:8080/"
        },
        "id": "de_StbkMSJKV",
        "outputId": "4861072a-0af5-4d6a-bea6-98f4fb9a9e85"
      },
      "source": [
        "eng = int(input(\"English marks out of 100: \"))\n",
        "hin = int(input(\"Hindi marks out of 100: \"))\n",
        "maths = int(input(\"Maths marks out of 100: \"))\n",
        "sci = int(input(\"Science marks out of 100: \"))\n",
        "sst =int(input(\"Sst marks out of 100: \"))\n",
        "com = int(input(\"Computer marks out of 100: \"))\n",
        "add = (eng+hin+maths+sci+sst+com)\n",
        "per =\n",
        "print(\"you scored \" , per , \"%\")\n",
        "if per > 90 and per < 100:\n",
        "    print(\"Grade = A1 and Grade point = 10.0\")\n",
        "elif per > 80 and per <  (add/600)*10090:\n",
        "    print(\"Grade = A2 and Grade point = 9.0\")\n",
        "elif per > 70 and per < 80:\n",
        "    print(\"Grade = B1 and Grade point = 8.0\")\n",
        "elif per > 60 and per < 70:\n",
        "    print(\"Grade = B2 and Grade point = 7.0\")\n",
        "elif per > 50 and per < 60:\n",
        "    print(\"Grade = C1 and Grade point = 6.0\")\n",
        "elif per > 50 and per < 60:\n",
        "    print(\"Grade = C2 and Grade point = 5.0\")\n",
        "elif per > 50 and per < 60:\n",
        "    print(\"Grade = D and gGade point = 4.0\")\n",
        "elif per > 50 and per < 60:\n",
        "    print(\"Grade = E1 and Grade point = 0.0\")\n",
        "elif per > 50 and per < 60:\n",
        "    print(\"Grade = E1 and Grade point = 0.0\")"
      ],
      "execution_count": null,
      "outputs": [
        {
          "output_type": "stream",
          "text": [
            "English marks out of 100: 78\n",
            "Hindi marks out of 100: 87\n",
            "Maths marks out of 100: 89\n",
            "Science marks out of 100: 82\n",
            "Sst marks out of 100: 91\n",
            "Computer marks out of 100: 99\n",
            "you scored  87.66666666666667 %\n",
            "grade = A2 and grade point = 9.0\n"
          ],
          "name": "stdout"
        }
      ]
    },
    {
      "cell_type": "code",
      "metadata": {
        "id": "_oLcBS4YZ7nc",
        "colab": {
          "base_uri": "https://localhost:8080/"
        },
        "outputId": "4e4d2872-1bf8-40f9-a5a0-f89e83b04382"
      },
      "source": [
        "l=int(input(\" Len \"))\n",
        "b=int(input(\"  Br \"))\n",
        "a=int(input(\" Side \"))\n",
        "r=int(input(\" Enter Radius\"))\n",
        "ch=int(input(\" Enter Choice \"))\n",
        "if ch==1:\n",
        "  print(l*b)\n",
        "elif ch==2:\n",
        "  print(a*a)\n",
        "elif ch==3:\n",
        "  print(3.14*r*r)\n",
        "else:\n",
        "  print(\"Wrong Choice\")"
      ],
      "execution_count": null,
      "outputs": [
        {
          "output_type": "stream",
          "text": [
            " Len 5\n",
            "  Br 5\n",
            " Side 4\n",
            " Enter Radius10\n",
            " Enter Choice 2\n",
            "16\n"
          ],
          "name": "stdout"
        }
      ]
    },
    {
      "cell_type": "code",
      "metadata": {
        "id": "jhhGAzgaOdGM"
      },
      "source": [
        "ch=int(input(\" Enter Choice  1 for AREA OF RECT 2 for .... \"))\n",
        "if ch==1:\n",
        "  l=int(input(\" Len \"))\n",
        "  b=int(input(\"  Br \"))\n",
        "  print(l*b)\n",
        "elif ch==2:\n",
        "  a=int(input(\" Side \"))\n",
        "  print(a*a)\n",
        "elif ch==3:\n",
        "  r=int(input(\" Enter Radius\"))\n",
        "  print(3.14*r*r)\n",
        "else:\n",
        "  print(\"Wrong Choice\")"
      ],
      "execution_count": null,
      "outputs": []
    },
    {
      "cell_type": "code",
      "metadata": {
        "colab": {
          "base_uri": "https://localhost:8080/"
        },
        "id": "B9qUyXJKiyJh",
        "outputId": "aa00be36-3dab-45e9-dea3-2d51aaa3b43e"
      },
      "source": [
        "noc=int(input(\" Number  \"))\n",
        "ca=int(input(\" Attendance \"))\n",
        "pe=( noc//ca ) * 100\n",
        "if pe<75:\n",
        "  print(\"No \")\n",
        "else:\n",
        "  print(\"Yes\")"
      ],
      "execution_count": null,
      "outputs": [
        {
          "output_type": "stream",
          "text": [
            " Number  20\n",
            " Attendance 18\n",
            "Yes\n"
          ],
          "name": "stdout"
        }
      ]
    },
    {
      "cell_type": "code",
      "metadata": {
        "id": "X23SL3iOiuB0"
      },
      "source": [
        "code = input(\"type the bus code\")\n",
        "if code == \"d\":\n",
        "  print(\"your fair is : 10\")\n",
        "elif code == \"r\":\n",
        "  print(\"your fair is : 15\")\n",
        "elif code == \"w\":\n",
        "  print(\"yourfair is : 20\")\n",
        "elif code == \"c\":\n",
        "  print(\"your fair is : 25\")\n",
        "else:\n",
        "  print(\"enter a valid code\")"
      ],
      "execution_count": null,
      "outputs": []
    },
    {
      "cell_type": "code",
      "metadata": {
        "id": "QUj1uwnxSyBS"
      },
      "source": [
        ""
      ],
      "execution_count": null,
      "outputs": []
    }
  ]
}